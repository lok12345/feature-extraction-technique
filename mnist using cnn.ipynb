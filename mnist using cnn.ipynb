{
 "cells": [
  {
   "cell_type": "code",
   "execution_count": 1,
   "metadata": {},
   "outputs": [
    {
     "name": "stdout",
     "output_type": "stream",
     "text": [
      "Requirement already satisfied: keras in c:\\users\\acer\\anaconda3\\lib\\site-packages (2.4.3)\n",
      "Requirement already satisfied: pyyaml in c:\\users\\acer\\anaconda3\\lib\\site-packages (from keras) (5.1)\n",
      "Requirement already satisfied: h5py in c:\\users\\acer\\anaconda3\\lib\\site-packages (from keras) (2.10.0)\n",
      "Requirement already satisfied: scipy>=0.14 in c:\\users\\acer\\anaconda3\\lib\\site-packages (from keras) (1.2.1)\n",
      "Requirement already satisfied: numpy>=1.9.1 in c:\\users\\acer\\anaconda3\\lib\\site-packages (from keras) (1.19.5)\n",
      "Requirement already satisfied: six in c:\\users\\acer\\anaconda3\\lib\\site-packages (from h5py->keras) (1.15.0)\n"
     ]
    }
   ],
   "source": [
    "!pip install keras\n",
    "from keras.datasets import mnist"
   ]
  },
  {
   "cell_type": "code",
   "execution_count": 2,
   "metadata": {},
   "outputs": [],
   "source": [
    "(x_train,y_train),(x_test,y_test) = mnist.load_data()"
   ]
  },
  {
   "cell_type": "code",
   "execution_count": 3,
   "metadata": {},
   "outputs": [
    {
     "name": "stdout",
     "output_type": "stream",
     "text": [
      "shape is : (60000, 28, 28)\n",
      "shape is : (60000,)\n",
      "shape is : (10000, 28, 28)\n",
      "shape is : (10000,)\n"
     ]
    }
   ],
   "source": [
    "print(\"shape is :\", (x_train.shape))\n",
    "print(\"shape is :\", (y_train.shape))\n",
    "print(\"shape is :\", (x_test.shape))\n",
    "print(\"shape is :\", (y_test.shape))"
   ]
  },
  {
   "cell_type": "code",
   "execution_count": 4,
   "metadata": {},
   "outputs": [],
   "source": [
    "from keras.models import Sequential\n",
    "from keras.layers import Dense,Dropout,Conv2D,MaxPool2D,Flatten\n",
    "from keras.utils import np_utils\n",
    "from sklearn.metrics import accuracy_score"
   ]
  },
  {
   "cell_type": "code",
   "execution_count": 5,
   "metadata": {},
   "outputs": [],
   "source": [
    "# reshaping the input data only\n",
    "x_train = x_train.reshape(x_train.shape[0],28,28,1)\n",
    "x_test = x_test.reshape(x_test.shape[0],28,28,1)\n",
    "x_train = x_train.astype('float32')\n",
    "x_test = x_test.astype('float32')"
   ]
  },
  {
   "cell_type": "code",
   "execution_count": 6,
   "metadata": {},
   "outputs": [],
   "source": [
    "# normalizing input data set\n",
    "x_train /= 255\n",
    "x_test /=255"
   ]
  },
  {
   "cell_type": "code",
   "execution_count": 7,
   "metadata": {},
   "outputs": [
    {
     "name": "stdout",
     "output_type": "stream",
     "text": [
      "shape before one hot encoding:(60000,)\n",
      "shape after one hot encoing:(60000, 10)\n"
     ]
    }
   ],
   "source": [
    "#one hot encoding to the output only\n",
    "n_classes = 10\n",
    "print(\"shape before one hot encoding:\" + str(y_train.shape))\n",
    "y_train  = np_utils.to_categorical(y_train,n_classes)\n",
    "y_test = np_utils.to_categorical(y_test,n_classes)\n",
    "print(\"shape after one hot encoing:\" + str(y_train.shape))"
   ]
  },
  {
   "cell_type": "code",
   "execution_count": 8,
   "metadata": {},
   "outputs": [
    {
     "name": "stdout",
     "output_type": "stream",
     "text": [
      "Epoch 1/10\n",
      "469/469 [==============================] - 21s 43ms/step - loss: 0.3819 - accuracy: 0.8912 - val_loss: 0.0699 - val_accuracy: 0.9763\n",
      "Epoch 2/10\n",
      "469/469 [==============================] - 20s 42ms/step - loss: 0.0578 - accuracy: 0.9837 - val_loss: 0.0521 - val_accuracy: 0.9837\n",
      "Epoch 3/10\n",
      "469/469 [==============================] - 20s 43ms/step - loss: 0.0312 - accuracy: 0.9911 - val_loss: 0.0486 - val_accuracy: 0.9841\n",
      "Epoch 4/10\n",
      "469/469 [==============================] - 20s 43ms/step - loss: 0.0180 - accuracy: 0.9945 - val_loss: 0.0512 - val_accuracy: 0.9824\n",
      "Epoch 5/10\n",
      "469/469 [==============================] - 20s 42ms/step - loss: 0.0114 - accuracy: 0.9970 - val_loss: 0.0478 - val_accuracy: 0.9860\n",
      "Epoch 6/10\n",
      "469/469 [==============================] - 19s 42ms/step - loss: 0.0085 - accuracy: 0.9973 - val_loss: 0.0503 - val_accuracy: 0.9841\n",
      "Epoch 7/10\n",
      "469/469 [==============================] - 19s 41ms/step - loss: 0.0048 - accuracy: 0.9991 - val_loss: 0.0526 - val_accuracy: 0.9838\n",
      "Epoch 8/10\n",
      "469/469 [==============================] - 20s 42ms/step - loss: 0.0024 - accuracy: 0.9996 - val_loss: 0.0578 - val_accuracy: 0.9845\n",
      "Epoch 9/10\n",
      "469/469 [==============================] - 20s 42ms/step - loss: 0.0077 - accuracy: 0.9975 - val_loss: 0.0702 - val_accuracy: 0.9837\n",
      "Epoch 10/10\n",
      "469/469 [==============================] - 20s 42ms/step - loss: 0.0053 - accuracy: 0.9987 - val_loss: 0.0685 - val_accuracy: 0.9831\n"
     ]
    },
    {
     "data": {
      "text/plain": [
       "<tensorflow.python.keras.callbacks.History at 0x29388dfa208>"
      ]
     },
     "execution_count": 8,
     "metadata": {},
     "output_type": "execute_result"
    }
   ],
   "source": [
    "#making the linear stack of the layer\n",
    "model = Sequential()\n",
    "\n",
    "#convolution layer\n",
    "model.add(Conv2D(25,kernel_size=(3,3),strides=(1,1),padding='valid',activation ='relu',input_shape=(28,28,1)))\n",
    "model.add(MaxPool2D(pool_size = (1,1)))\n",
    "\n",
    "#flatten output of convolution\n",
    "model.add(Flatten())\n",
    "\n",
    "#hidden layer\n",
    "model.add(Dense(100,activation = 'relu'))\n",
    "\n",
    "#output layer\n",
    "model.add(Dense(10,activation = 'softmax'))\n",
    "\n",
    "#compiling the sequential model\n",
    "\n",
    "model.compile(loss = 'categorical_crossentropy',metrics = ['accuracy'],optimizer='adam')\n",
    "\n",
    "#training the model for 10 epoch\n",
    "model.fit(x_train,y_train,batch_size = 128,epochs = 10, validation_data=(x_test,y_test))"
   ]
  }
 ],
 "metadata": {
  "kernelspec": {
   "display_name": "Python 3",
   "language": "python",
   "name": "python3"
  },
  "language_info": {
   "codemirror_mode": {
    "name": "ipython",
    "version": 3
   },
   "file_extension": ".py",
   "mimetype": "text/x-python",
   "name": "python",
   "nbconvert_exporter": "python",
   "pygments_lexer": "ipython3",
   "version": "3.7.3"
  }
 },
 "nbformat": 4,
 "nbformat_minor": 2
}
